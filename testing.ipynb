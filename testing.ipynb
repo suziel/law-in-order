{
 "cells": [
  {
   "cell_type": "code",
   "execution_count": 1,
   "metadata": {},
   "outputs": [
    {
     "name": "stdout",
     "output_type": "stream",
     "text": [
      "Found PDF URL: https://www.supremecourt.gov/opinions/24pdf/606us2r67_d18e.pdf\n"
     ]
    }
   ],
   "source": [
    "import re\n",
    "\n",
    "BASE = \"https://www.supremecourt.gov\"\n",
    "\n",
    "def absolutize(u):\n",
    "    if not u:\n",
    "        return None\n",
    "    u = u.replace(\"&amp;\", \"&\").strip()\n",
    "    if u.lower().startswith(\"http://\") or u.lower().startswith(\"https://\"):\n",
    "        return u\n",
    "    if u.startswith(\"//\"):\n",
    "        return \"https:\" + u\n",
    "    if u.startswith(\"/\"):\n",
    "        return BASE + u\n",
    "    if u.startswith(\"./\"):\n",
    "        return BASE + \"/\" + u[2:]\n",
    "    if u.startswith(\"opinions/\"):\n",
    "        return BASE + \"/\" + u\n",
    "    return BASE + \"/\" + u\n",
    "\n",
    "def extract_first_pdf_anywhere(html):\n",
    "    if not isinstance(html, str) or len(html) < 50:\n",
    "        raise ValueError(\"Empty HTML\")\n",
    "\n",
    "    # Collapse whitespace\n",
    "    norm = re.sub(r\"\\s+\", \" \", html)\n",
    "    print(norm)\n",
    "    \n",
    "    # 1) All anchors\n",
    "    hrefs = re.findall(r'<a\\b[^>]*?href\\s*=\\s*([\"\\'])(.*?)\\1[^>]*>(.*?)</a>', norm, flags=re.IGNORECASE)\n",
    "    hrefs = [(href, re.sub(r\"<[^>]+>\", \"\", text).strip()) for _, href, text in hrefs]\n",
    "\n",
    "    # 1) Prefer /opinions/YYpdf/*.pdf\n",
    "    for href, _ in hrefs:\n",
    "        if re.search(r\"/opinions/\\d{2}pdf/[^\\\"'#?]+\\.pdf\", href, re.IGNORECASE):\n",
    "            return absolutize(href)\n",
    "\n",
    "    # 2) Any .pdf in href\n",
    "    for href, _ in hrefs:\n",
    "        if re.search(r\"\\.pdf($|[?#])\", href, re.IGNORECASE):\n",
    "            return absolutize(href)\n",
    "\n",
    "    # 3) Plain-text absolute SCOTUS PDF\n",
    "    m = re.search(r\"(?:https?:\\/\\/)?(?:www\\.)?supremecourt\\.gov\\/[^\\\"'#\\s<>]*\\.pdf\", norm, re.IGNORECASE)\n",
    "    if m:\n",
    "        return absolutize(m.group(0))\n",
    "\n",
    "    # 4) Plain-text slip-opinion relative path\n",
    "    m = re.search(r\"(\\/?opinions\\/\\d{2}pdf\\/[^\\\"'#\\s<>]+\\.pdf)\", norm, re.IGNORECASE)\n",
    "    if m:\n",
    "        return absolutize(m.group(1))\n",
    "\n",
    "    raise ValueError(\"No PDF link found\")\n",
    "\n",
    "if __name__ == \"__main__\":\n",
    "    with open(\"html_case.html\", encoding=\"utf-8\") as f:\n",
    "        html_content = f.read()\n",
    "    try:\n",
    "        pdf_url = extract_first_pdf_anywhere(html_content)\n",
    "        print(\"Found PDF URL:\", pdf_url)\n",
    "    except Exception as e:\n",
    "        print(\"Error:\", e)\n"
   ]
  }
 ],
 "metadata": {
  "kernelspec": {
   "display_name": "base",
   "language": "python",
   "name": "python3"
  },
  "language_info": {
   "codemirror_mode": {
    "name": "ipython",
    "version": 3
   },
   "file_extension": ".py",
   "mimetype": "text/x-python",
   "name": "python",
   "nbconvert_exporter": "python",
   "pygments_lexer": "ipython3",
   "version": "3.10.9"
  }
 },
 "nbformat": 4,
 "nbformat_minor": 2
}
